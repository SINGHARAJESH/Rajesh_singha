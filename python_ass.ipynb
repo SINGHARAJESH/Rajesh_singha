{
 "cells": [
  {
   "cell_type": "markdown",
   "id": "9fe739fa-82c9-4481-a40e-8fdebe63f3a5",
   "metadata": {},
   "source": [
    "# Abstraction in OOps?  with an example."
   ]
  },
  {
   "cell_type": "markdown",
   "id": "f61fb2f9-cfd3-4dfa-a3d6-f38f80929c70",
   "metadata": {},
   "source": [
    "In Python, abstraction is a fundamental concept in object-oriented programming (OOP) that allows you to create classes with simplified, well-defined interfaces to hide the implementation details of the underlying data or functionalities. It helps in managing complexity and making code more maintainable and easier to understand"
   ]
  },
  {
   "cell_type": "code",
   "execution_count": null,
   "id": "821b495b-0fef-40a1-8276-bb7518fe7be2",
   "metadata": {},
   "outputs": [],
   "source": []
  },
  {
   "cell_type": "code",
   "execution_count": null,
   "id": "6ca2c683-91fe-48d6-b23f-2a58ab541374",
   "metadata": {},
   "outputs": [],
   "source": []
  },
  {
   "cell_type": "code",
   "execution_count": 9,
   "id": "c31aee1b-46a0-4a3e-b911-1122d9e50a66",
   "metadata": {},
   "outputs": [
    {
     "name": "stdout",
     "output_type": "stream",
     "text": [
      "Circle Area: 78.5\n",
      "Circle Perimeter: 31.400000000000002\n",
      "Rectangle Area: 24\n",
      "Rectangle Perimeter: 20\n"
     ]
    }
   ],
   "source": [
    "from abc import ABC, abstractmethod\n",
    "\n",
    "class Shape(ABC):\n",
    "    @abstractmethod\n",
    "    def area(self):\n",
    "        pass\n",
    "\n",
    "    @abstractmethod\n",
    "    def perimeter(self):\n",
    "        pass\n",
    "\n",
    "class Circle(Shape):\n",
    "    def __init__(self, radius):\n",
    "        self.radius = radius\n",
    "\n",
    "    def area(self):\n",
    "        return 3.14 * self.radius**2\n",
    "\n",
    "    def perimeter(self):\n",
    "        return 2 * 3.14 * self.radius\n",
    "\n",
    "class Rectangle(Shape):\n",
    "    def __init__(self, width, height):\n",
    "        self.width = width\n",
    "        self.height = height\n",
    "\n",
    "    def area(self):\n",
    "        return self.width * self.height\n",
    "\n",
    "    def perimeter(self):\n",
    "        return 2 * (self.width + self.height)\n",
    "\n",
    "circle = Circle(5)\n",
    "print(\"Circle Area:\", circle.area())  \n",
    "print(\"Circle Perimeter:\", circle.perimeter())  \n",
    "\n",
    "rectangle = Rectangle(4, 6)\n",
    "print(\"Rectangle Area:\", rectangle.area())  \n",
    "print(\"Rectangle Perimeter:\", rectangle.perimeter())  \n"
   ]
  },
  {
   "cell_type": "markdown",
   "id": "ee92ce88-09ea-453a-b747-63777dde6d8b",
   "metadata": {},
   "source": [
    " # abc module in python "
   ]
  },
  {
   "cell_type": "markdown",
   "id": "3b3e3c63-62d8-4f11-936e-0fd82ae08d8a",
   "metadata": {},
   "source": [
    "\n",
    "The abc module in Python stands for \"Abstract Base Classes.\" It provides a framework for creating abstract base classes and defining interfaces for subclasses to follow. Abstract base classes are classes that are not meant to be instantiated themselves, but instead, they provide a common structure and set of methods that subclasses should implement"
   ]
  },
  {
   "cell_type": "markdown",
   "id": "8ea877df-77b4-4f55-97ed-ad6f3ec605ca",
   "metadata": {},
   "source": [
    "# why is it used?"
   ]
  },
  {
   "cell_type": "markdown",
   "id": "56fe6654-0053-48b4-bfee-b1867951aba6",
   "metadata": {},
   "source": [
    "Enforcing Interface and Structure: Abstract base classes (ABCs) defined using the abc module allow you to define a common interface and structure for related classes. This ensures that subclasses adhere to a certain contract by implementing specific methods, leading to more consistent and predictable behavior.\n",
    "\n",
    "Code Organization and Readability: ABCs provide a way to logically group and organize related classes. This enhances the readability and maintainability of your codebase, especially when dealing with complex class hierarchies.\n",
    "\n",
    "Preventing Instantiation of Abstract Classes: By design, abstract base classes are not meant to be instantiated themselves. The abc module prevents you from creating instances of these abstract classes, which helps in clearly indicating that these classes are meant to be subclassed\n",
    "\n",
    "Polymorphism and Duck Typing: Using ABCs, you can create a common interface that multiple classes adhere to. This promotes polymorphism and duck typing, allowing you to write more flexible code that works with various objects that share the same interface\n",
    "\n",
    "Documentation and Self-Explanatory Code: Abstract methods defined within ABCs serve as documentation for subclasses, indicating what methods need to be implemented. This can make your code more self-explanatory and reduce the likelihood of missing required methods."
   ]
  },
  {
   "cell_type": "code",
   "execution_count": 1,
   "id": "757d6f2f-7d09-408d-a611-8de69c2faacf",
   "metadata": {},
   "outputs": [
    {
     "name": "stdout",
     "output_type": "stream",
     "text": [
      "78.5\n",
      "24\n"
     ]
    }
   ],
   "source": [
    "# ex -\n",
    "from abc import ABC, abstractmethod\n",
    "\n",
    "class Shape(ABC):\n",
    "    @abstractmethod\n",
    "    def area(self):\n",
    "        pass\n",
    "\n",
    "class Circle(Shape):\n",
    "    def __init__(self, radius):\n",
    "        self.radius = radius\n",
    "    \n",
    "    def area(self):\n",
    "        return 3.14 * self.radius ** 2\n",
    "\n",
    "class Rectangle(Shape):\n",
    "    def __init__(self, width, height):\n",
    "        self.width = width\n",
    "        self.height = height\n",
    "    \n",
    "    def area(self):\n",
    "        return self.width * self.height\n",
    "\n",
    "# You cannot create an instance of Shape, but you can create instances of Circle and Rectangle\n",
    "circle = Circle(5)\n",
    "rectangle = Rectangle(4, 6)\n",
    "\n",
    "print(circle.area())     # Output: 78.5\n",
    "print(rectangle.area())  # Output: 24\n"
   ]
  },
  {
   "cell_type": "markdown",
   "id": "286a5d60-d113-4d0f-b1e4-a35a15503563",
   "metadata": {},
   "source": [
    "# Differentiate between Abstraction and Encapsulation"
   ]
  },
  {
   "cell_type": "markdown",
   "id": "98928e98-6f83-4b63-8aec-16d48ffe1205",
   "metadata": {},
   "source": [
    "# Abstraction:\n",
    "Abstraction is the process of simplifying complex objects or systems by focusing only on the relevant details while hiding unnecessary complexities. In the context of object-oriented programming, abstraction allows you to define abstract classes and methods that represent a common set of functionalities, without specifying the implementation details. These abstract classes serve as blueprints for concrete classes, and they provide a clear and consistent interface for interacting with objects of different types."
   ]
  },
  {
   "cell_type": "code",
   "execution_count": 4,
   "id": "8c70aee3-0ecc-4ed9-958a-7ef105015dcf",
   "metadata": {},
   "outputs": [
    {
     "name": "stdout",
     "output_type": "stream",
     "text": [
      "Toyota Camry started \n",
      "Toyota Camry stopped.\n",
      "honda cbr started.\n",
      "honda cbr stopped.\n"
     ]
    }
   ],
   "source": [
    "from abc import ABC, abstractmethod\n",
    "class Vehicle(ABC):\n",
    "    \n",
    "    def __init__(self, brand, model):\n",
    "        self.brand = brand\n",
    "        self.model = model\n",
    "        \n",
    "    @abstractmethod\n",
    "    def start(self):\n",
    "        pass\n",
    "    \n",
    "    @abstractmethod\n",
    "    def start(self):\n",
    "        pass\n",
    "    @abstractmethod\n",
    "    \n",
    "    def stop(self):\n",
    "        pass\n",
    "    \n",
    "class Car(Vehicle):\n",
    "    def start(self):\n",
    "        return f\"{self.brand} {self.model} started \"\n",
    "    \n",
    "    def stop(self):\n",
    "        return f\"{self.brand} {self.model} stopped.\"\n",
    "    \n",
    "class Bike(Vehicle):\n",
    "    def start(self):\n",
    "        return f\"{self.brand} {self.model} started.\"\n",
    "\n",
    "    def stop(self):\n",
    "        return f\"{self.brand} {self.model} stopped.\"\n",
    "    \n",
    "car = Car(\"Toyota\", \"Camry\")\n",
    "bike = Bike(\"honda\", \"cbr\")\n",
    "\n",
    "print(car.start())\n",
    "print(car.stop())\n",
    "\n",
    "print(bike.start())\n",
    "print(bike.stop())\n"
   ]
  },
  {
   "cell_type": "markdown",
   "id": "573f79b9-047b-41ad-a7ad-96556bd04ec8",
   "metadata": {},
   "source": [
    "# Encapsulation\n",
    "\n",
    "Encapsulation is the bundling of data and methods that operate on the data within a single unit, which is called a class. It enables data hiding and protects the internal state of an object from being directly accessed or modified by external code. Access to the data is provided through public methods (getters and setters), which allows for controlled and secure access to the object's attributes"
   ]
  },
  {
   "cell_type": "code",
   "execution_count": 2,
   "id": "c4c23d1d-0200-4ebc-b9f7-77646460c1f7",
   "metadata": {},
   "outputs": [
    {
     "name": "stdout",
     "output_type": "stream",
     "text": [
      "Account Number: 123456789\n",
      "Balance: 1000\n",
      "Deposited $500. New balance: $1500\n",
      "Withdrew $200. New balance: $1300\n",
      "Insufficient funds or invalid withdrawal amount.\n"
     ]
    }
   ],
   "source": [
    "class BankAccount:\n",
    "    \n",
    "    def __init__(self,account_number, balance):\n",
    "        self._account_number = account_number\n",
    "        self._balance = balance\n",
    "        \n",
    "    def get_account_number(self):\n",
    "        return self._account_number\n",
    "    \n",
    "    def get_balance(self):\n",
    "        return self._balance\n",
    "    \n",
    "    def deposit(self,amount):\n",
    "        if amount > 0:\n",
    "            \n",
    "            self._balance += amount\n",
    "            \n",
    "            return f\"Deposited ${amount}. New balance: ${self._balance}\"\n",
    "        \n",
    "        else:\n",
    "            return \"invalid deposit amount\"\n",
    "        \n",
    "    def withdraw(self, amount):\n",
    "        \n",
    "        if 0 < amount <= self._balance:\n",
    "            \n",
    "            self._balance -= amount\n",
    "            \n",
    "            return f\"Withdrew ${amount}. New balance: ${self._balance}\"\n",
    "        \n",
    "        else:\n",
    "            return  \"Insufficient funds or invalid withdrawal amount.\"\n",
    "        \n",
    "account = BankAccount(\"123456789\", 1000)\n",
    "print(\"Account Number:\", account.get_account_number())\n",
    "print(\"Balance:\", account.get_balance()) \n",
    "\n",
    "print(account.deposit(500))    \n",
    "print(account.withdraw(200))    \n",
    "print(account.withdraw(2000))"
   ]
  },
  {
   "cell_type": "markdown",
   "id": "0ee0812c-bc9e-4120-97a0-c17f2aad46d2",
   "metadata": {},
   "source": [
    "# How can we achieve data abstraction?\n",
    "\n",
    "Define an Abstract Class: Create an abstract base class that defines the interface for the desired abstraction. This class should include abstract methods that represent the functionalities you want to abstract. You can use the abc module to create abstract classes and methods\n",
    "\n",
    "Inherit from the Abstract Class: Create concrete classes that inherit from the abstract class. These concrete classes should provide implementations for the abstract methods defined in the abstract base class\n",
    "\n",
    "Implement Abstraction: In the concrete classes, implement the required methods with specific behaviors and logic. The abstract methods defined in the base class will ensure that all concrete subclasses have these methods, enforcing the desired abstraction\n",
    "\n",
    "Hide Implementation Details: Within the concrete classes, you can use private attributes (by prefixing with _) and encapsulation to hide implementation details. This ensures that the internal state of objects is not directly accessible from outside the class."
   ]
  },
  {
   "cell_type": "markdown",
   "id": "1c03e59f-7e4b-45d3-8997-8ab25b01282a",
   "metadata": {},
   "source": [
    "# Can we create an instance of an abstract class? Explain your answer."
   ]
  },
  {
   "cell_type": "markdown",
   "id": "27a07dd6-b5d0-4175-89c5-fb7a15c50018",
   "metadata": {},
   "source": [
    "No, you cannot create an instance of an abstract class in Python. Abstract classes are designed to be incomplete and are meant to serve as blueprints for other classes to inherit from. They contain abstract methods that need to be overridden by the concrete subclasses.\n",
    "\n",
    "Attempting to create an instance of an abstract class directly will result in a TypeError with a message indicating that the class is abstract and cannot be instantiated. Here's an example to illustrate this"
   ]
  },
  {
   "cell_type": "code",
   "execution_count": null,
   "id": "41cf64da-1bd5-4ddc-a20b-02852ab4a05d",
   "metadata": {},
   "outputs": [],
   "source": []
  }
 ],
 "metadata": {
  "kernelspec": {
   "display_name": "Python 3 (ipykernel)",
   "language": "python",
   "name": "python3"
  },
  "language_info": {
   "codemirror_mode": {
    "name": "ipython",
    "version": 3
   },
   "file_extension": ".py",
   "mimetype": "text/x-python",
   "name": "python",
   "nbconvert_exporter": "python",
   "pygments_lexer": "ipython3",
   "version": "3.10.8"
  }
 },
 "nbformat": 4,
 "nbformat_minor": 5
}
